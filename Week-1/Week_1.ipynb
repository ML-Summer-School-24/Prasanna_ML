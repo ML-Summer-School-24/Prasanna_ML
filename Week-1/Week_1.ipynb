{
 "cells": [
  {
   "cell_type": "code",
   "execution_count": 4,
   "id": "ec62376f-a4cb-480d-a9e7-c45435700e30",
   "metadata": {},
   "outputs": [],
   "source": [
    "import pandas as pd\n"
   ]
  },
  {
   "cell_type": "code",
   "execution_count": 6,
   "id": "d7f062bb-35e3-4994-aab3-f4809e4b2196",
   "metadata": {},
   "outputs": [],
   "source": [
    "data = {\n",
    "    'Roll Number': [101, 102, 103, 104, 105, 106, 107, 108, 109, 110],\n",
    "    'Name': ['Arjun', 'Prajwal', 'Yuvraj', 'David', 'Virat', 'Kareena', 'Hrithik', 'Shrivansh', 'Hardik', 'Aishwarya'],\n",
    "    'Gender': ['M', 'M', 'M', 'M', 'M', 'F', 'M', 'M', 'M', 'F'],\n",
    "    'Marks1': [85, 72, 90, 65, 78, 88, 95, 80, 70, 82],\n",
    "    'Marks2': [70, 68, 75, 60, 72, 80, 85, 78, 65, 75],\n",
    "    'Marks3': [80, 75, 85, 70, 75, 85, 90, 82, 72, 80]\n",
    "}"
   ]
  },
  {
   "cell_type": "code",
   "execution_count": 12,
   "id": "e6906c74-549d-4f58-875a-fb0ca56879a4",
   "metadata": {},
   "outputs": [],
   "source": [
    "df=pd.DataFrame(data)"
   ]
  },
  {
   "cell_type": "code",
   "execution_count": 20,
   "id": "723fc183-8923-49d2-ae3d-77cf4e16fb39",
   "metadata": {},
   "outputs": [
    {
     "name": "stdout",
     "output_type": "stream",
     "text": [
      "   Roll Number       Name Gender  Marks1  Marks2  Marks3  Total Marks\n",
      "0          101      Arjun      M      85      70      80          235\n",
      "1          102    Prajwal      M      72      68      75          215\n",
      "2          103     Yuvraj      M      90      75      85          250\n",
      "3          104      David      M      65      60      70          195\n",
      "4          105      Virat      M      78      72      75          225\n",
      "5          106    Kareena      F      88      80      85          253\n",
      "6          107    Hrithik      M      95      85      90          270\n",
      "7          108  Shrivansh      M      80      78      82          240\n",
      "8          109     Hardik      M      70      65      72          207\n",
      "9          110  Aishwarya      F      82      75      80          237\n"
     ]
    }
   ],
   "source": [
    "df['Total Marks'] = df['Marks1'] + df['Marks2'] + df['Marks3']\n",
    "print(df)"
   ]
  },
  {
   "cell_type": "code",
   "execution_count": 28,
   "id": "b790307e-9277-42bc-81c5-56f5a9cc067c",
   "metadata": {},
   "outputs": [
    {
     "name": "stdout",
     "output_type": "stream",
     "text": [
      "Lowest Marks in Mark-1 =  65\n"
     ]
    }
   ],
   "source": [
    "lowest_marks=df['Marks1'].min()\n",
    "print('Lowest Marks in Mark-1 = ',lowest_marks)"
   ]
  },
  {
   "cell_type": "code",
   "execution_count": 30,
   "id": "67952ea1-2fac-4d66-be25-8acb49dd35a2",
   "metadata": {},
   "outputs": [
    {
     "name": "stdout",
     "output_type": "stream",
     "text": [
      "Highest Marks in Mark-1 =  85\n"
     ]
    }
   ],
   "source": [
    "highest_marks=df['Marks2'].max()\n",
    "print('Highest Marks in Mark-2 = ',highest_marks)"
   ]
  },
  {
   "cell_type": "code",
   "execution_count": 34,
   "id": "9ce664f9-d265-44a6-a06c-223437511a3f",
   "metadata": {},
   "outputs": [
    {
     "name": "stdout",
     "output_type": "stream",
     "text": [
      "Average Marks in Mark-3 =  79.4\n"
     ]
    }
   ],
   "source": [
    "average_marks=df['Marks3'].mean()\n",
    "print('Average Marks in Mark-3 = ',average_marks)"
   ]
  },
  {
   "cell_type": "code",
   "execution_count": 38,
   "id": "d449fd05-33a2-4e5a-a154-6d31504fc45c",
   "metadata": {},
   "outputs": [
    {
     "name": "stdout",
     "output_type": "stream",
     "text": [
      "Student with the highest average marks: Hrithik\n"
     ]
    }
   ],
   "source": [
    "df['Average Marks'] = df[['Marks1', 'Marks2', 'Marks3']].mean(axis=1)\n",
    "highest_avg_stu=df.loc[df['Average Marks'].idxmax(), 'Name']\n",
    "print(\"Student with the highest average marks:\", highest_avg_stu)"
   ]
  },
  {
   "cell_type": "code",
   "execution_count": 40,
   "id": "8698f3d4-8b6b-484a-bb2a-92f11f9eccf0",
   "metadata": {},
   "outputs": [],
   "source": [
    "fail=df[df['Marks2']<40].shape[0]"
   ]
  },
  {
   "cell_type": "code",
   "execution_count": 42,
   "id": "038236a4-c78a-41cc-aab2-9dbed029e4ee",
   "metadata": {},
   "outputs": [
    {
     "name": "stdout",
     "output_type": "stream",
     "text": [
      "Number of failed students =  0\n"
     ]
    }
   ],
   "source": [
    "print('Number of failed students = ',fail)"
   ]
  },
  {
   "cell_type": "code",
   "execution_count": 44,
   "id": "ce654815-b099-4e38-b6a1-58e71fd0338c",
   "metadata": {},
   "outputs": [
    {
     "name": "stdout",
     "output_type": "stream",
     "text": [
      "       Roll Number     Marks1     Marks2     Marks3  Total Marks  \\\n",
      "count     10.00000  10.000000  10.000000  10.000000    10.000000   \n",
      "mean     105.50000  80.500000  72.800000  79.400000   232.700000   \n",
      "std        3.02765   9.478045   7.405704   6.363088    22.691408   \n",
      "min      101.00000  65.000000  60.000000  70.000000   195.000000   \n",
      "25%      103.25000  73.500000  68.500000  75.000000   217.500000   \n",
      "50%      105.50000  81.000000  73.500000  80.000000   236.000000   \n",
      "75%      107.75000  87.250000  77.250000  84.250000   247.500000   \n",
      "max      110.00000  95.000000  85.000000  90.000000   270.000000   \n",
      "\n",
      "       Average Marks  \n",
      "count      10.000000  \n",
      "mean       77.566667  \n",
      "std         7.563803  \n",
      "min        65.000000  \n",
      "25%        72.500000  \n",
      "50%        78.666667  \n",
      "75%        82.500000  \n",
      "max        90.000000  \n"
     ]
    }
   ],
   "source": [
    "summary=df.describe()\n",
    "print(summary)\n"
   ]
  },
  {
   "cell_type": "code",
   "execution_count": null,
   "id": "3550287a-fddb-4ce9-bebe-5ee2724fc523",
   "metadata": {},
   "outputs": [],
   "source": []
  }
 ],
 "metadata": {
  "kernelspec": {
   "display_name": "Python 3 (ipykernel)",
   "language": "python",
   "name": "python3"
  },
  "language_info": {
   "codemirror_mode": {
    "name": "ipython",
    "version": 3
   },
   "file_extension": ".py",
   "mimetype": "text/x-python",
   "name": "python",
   "nbconvert_exporter": "python",
   "pygments_lexer": "ipython3",
   "version": "3.11.7"
  }
 },
 "nbformat": 4,
 "nbformat_minor": 5
}
